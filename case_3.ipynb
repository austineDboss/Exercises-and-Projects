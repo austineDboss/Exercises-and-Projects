{
  "nbformat": 4,
  "nbformat_minor": 0,
  "metadata": {
    "colab": {
      "name": "case_3.ipynb",
      "provenance": [],
      "collapsed_sections": [],
      "machine_shape": "hm",
      "authorship_tag": "ABX9TyNephpZbDnel99vsPPW2ZQB",
      "include_colab_link": true
    },
    "kernelspec": {
      "name": "python3",
      "display_name": "Python 3"
    }
  },
  "cells": [
    {
      "cell_type": "markdown",
      "metadata": {
        "id": "view-in-github",
        "colab_type": "text"
      },
      "source": [
        "<a href=\"https://colab.research.google.com/github/austineDboss/Exercises-and-Projects/blob/master/case_3.ipynb\" target=\"_parent\"><img src=\"https://colab.research.google.com/assets/colab-badge.svg\" alt=\"Open In Colab\"/></a>"
      ]
    },
    {
      "cell_type": "code",
      "metadata": {
        "id": "vENYvI3tgM7t",
        "colab_type": "code",
        "outputId": "eb1d1128-8c89-483d-bd11-4e9f19a9d67a",
        "colab": {
          "base_uri": "https://localhost:8080/",
          "height": 84
        }
      },
      "source": [
        "#import needed libraries\n",
        "%pylab inline\n",
        "import os\n",
        "import pandas as pd\n",
        "import numpy as np\n",
        "import matplotlib.pyplot as plt\n",
        "from matplotlib import style; style.use('ggplot')\n",
        "import nltk\n",
        "from nltk.sentiment.vader import SentimentIntensityAnalyzer\n",
        "import time\n",
        "from sklearn.feature_extraction.text import TfidfVectorizer\n",
        "from sklearn.metrics import confusion_matrix, classification_report,cohen_kappa_score\n",
        "from sklearn.naive_bayes import MultinomialNB\n",
        "from sklearn.ensemble import RandomForestClassifier"
      ],
      "execution_count": 221,
      "outputs": [
        {
          "output_type": "stream",
          "text": [
            "Populating the interactive namespace from numpy and matplotlib\n"
          ],
          "name": "stdout"
        },
        {
          "output_type": "stream",
          "text": [
            "/usr/local/lib/python3.6/dist-packages/IPython/core/magics/pylab.py:161: UserWarning: pylab import has clobbered these variables: ['test']\n",
            "`%matplotlib` prevents importing * from pylab and numpy\n",
            "  \"\\n`%matplotlib` prevents importing * from pylab and numpy\"\n"
          ],
          "name": "stderr"
        }
      ]
    },
    {
      "cell_type": "code",
      "metadata": {
        "id": "yn3_paz1gYLA",
        "colab_type": "code",
        "outputId": "4bac7be8-8d86-424f-f294-7aadb64e0980",
        "colab": {
          "base_uri": "https://localhost:8080/",
          "height": 34
        }
      },
      "source": [
        "#The below code mounts google drive folder to google colab\n",
        "from google.colab import drive\n",
        "drive.mount('/content/drive')"
      ],
      "execution_count": 138,
      "outputs": [
        {
          "output_type": "stream",
          "text": [
            "Drive already mounted at /content/drive; to attempt to forcibly remount, call drive.mount(\"/content/drive\", force_remount=True).\n"
          ],
          "name": "stdout"
        }
      ]
    },
    {
      "cell_type": "code",
      "metadata": {
        "id": "IiyBRKuxgaLe",
        "colab_type": "code",
        "colab": {}
      },
      "source": [
        "train = pd.read_csv(\"/content/drive/My Drive/colab/drugs/drugsComTrain_raw.csv\")\n",
        "test = pd.read_csv(\"/content/drive/My Drive/colab/drugs/drugsComTest_raw.csv\")"
      ],
      "execution_count": 0,
      "outputs": []
    },
    {
      "cell_type": "code",
      "metadata": {
        "id": "DJ8qj8pEg0j_",
        "colab_type": "code",
        "outputId": "6f8089f0-4d7e-42bc-c81d-c9ff2a42681a",
        "colab": {
          "base_uri": "https://localhost:8080/",
          "height": 195
        }
      },
      "source": [
        "train.head()"
      ],
      "execution_count": 140,
      "outputs": [
        {
          "output_type": "execute_result",
          "data": {
            "text/html": [
              "<div>\n",
              "<style scoped>\n",
              "    .dataframe tbody tr th:only-of-type {\n",
              "        vertical-align: middle;\n",
              "    }\n",
              "\n",
              "    .dataframe tbody tr th {\n",
              "        vertical-align: top;\n",
              "    }\n",
              "\n",
              "    .dataframe thead th {\n",
              "        text-align: right;\n",
              "    }\n",
              "</style>\n",
              "<table border=\"1\" class=\"dataframe\">\n",
              "  <thead>\n",
              "    <tr style=\"text-align: right;\">\n",
              "      <th></th>\n",
              "      <th>uniqueID</th>\n",
              "      <th>drugName</th>\n",
              "      <th>condition</th>\n",
              "      <th>review</th>\n",
              "      <th>rating</th>\n",
              "      <th>date</th>\n",
              "      <th>usefulCount</th>\n",
              "    </tr>\n",
              "  </thead>\n",
              "  <tbody>\n",
              "    <tr>\n",
              "      <th>0</th>\n",
              "      <td>206461</td>\n",
              "      <td>Valsartan</td>\n",
              "      <td>Left Ventricular Dysfunction</td>\n",
              "      <td>\"It has no side effect, I take it in combinati...</td>\n",
              "      <td>9</td>\n",
              "      <td>20-May-12</td>\n",
              "      <td>27</td>\n",
              "    </tr>\n",
              "    <tr>\n",
              "      <th>1</th>\n",
              "      <td>95260</td>\n",
              "      <td>Guanfacine</td>\n",
              "      <td>ADHD</td>\n",
              "      <td>\"My son is halfway through his fourth week of ...</td>\n",
              "      <td>8</td>\n",
              "      <td>27-Apr-10</td>\n",
              "      <td>192</td>\n",
              "    </tr>\n",
              "    <tr>\n",
              "      <th>2</th>\n",
              "      <td>92703</td>\n",
              "      <td>Lybrel</td>\n",
              "      <td>Birth Control</td>\n",
              "      <td>\"I used to take another oral contraceptive, wh...</td>\n",
              "      <td>5</td>\n",
              "      <td>14-Dec-09</td>\n",
              "      <td>17</td>\n",
              "    </tr>\n",
              "    <tr>\n",
              "      <th>3</th>\n",
              "      <td>138000</td>\n",
              "      <td>Ortho Evra</td>\n",
              "      <td>Birth Control</td>\n",
              "      <td>\"This is my first time using any form of birth...</td>\n",
              "      <td>8</td>\n",
              "      <td>3-Nov-15</td>\n",
              "      <td>10</td>\n",
              "    </tr>\n",
              "    <tr>\n",
              "      <th>4</th>\n",
              "      <td>35696</td>\n",
              "      <td>Buprenorphine / naloxone</td>\n",
              "      <td>Opiate Dependence</td>\n",
              "      <td>\"Suboxone has completely turned my life around...</td>\n",
              "      <td>9</td>\n",
              "      <td>27-Nov-16</td>\n",
              "      <td>37</td>\n",
              "    </tr>\n",
              "  </tbody>\n",
              "</table>\n",
              "</div>"
            ],
            "text/plain": [
              "   uniqueID                  drugName  ...       date usefulCount\n",
              "0    206461                 Valsartan  ...  20-May-12          27\n",
              "1     95260                Guanfacine  ...  27-Apr-10         192\n",
              "2     92703                    Lybrel  ...  14-Dec-09          17\n",
              "3    138000                Ortho Evra  ...   3-Nov-15          10\n",
              "4     35696  Buprenorphine / naloxone  ...  27-Nov-16          37\n",
              "\n",
              "[5 rows x 7 columns]"
            ]
          },
          "metadata": {
            "tags": []
          },
          "execution_count": 140
        }
      ]
    },
    {
      "cell_type": "code",
      "metadata": {
        "id": "QiD8LcBwhLWI",
        "colab_type": "code",
        "colab": {}
      },
      "source": [
        "conditions = train.condition.value_counts().sort_values(ascending=False)"
      ],
      "execution_count": 0,
      "outputs": []
    },
    {
      "cell_type": "code",
      "metadata": {
        "id": "NjZNe_NDhNVy",
        "colab_type": "code",
        "outputId": "414783b1-257d-479a-d6fc-4daf734b944c",
        "colab": {
          "base_uri": "https://localhost:8080/",
          "height": 202
        }
      },
      "source": [
        "conditions[:10]"
      ],
      "execution_count": 142,
      "outputs": [
        {
          "output_type": "execute_result",
          "data": {
            "text/plain": [
              "Birth Control      28788\n",
              "Depression          9069\n",
              "Pain                6145\n",
              "Anxiety             5904\n",
              "Acne                5588\n",
              "Bipolar Disorde     4224\n",
              "Insomnia            3673\n",
              "Weight Loss         3609\n",
              "Obesity             3568\n",
              "ADHD                3383\n",
              "Name: condition, dtype: int64"
            ]
          },
          "metadata": {
            "tags": []
          },
          "execution_count": 142
        }
      ]
    },
    {
      "cell_type": "code",
      "metadata": {
        "id": "FFz5PvOphO1Z",
        "colab_type": "code",
        "colab": {}
      },
      "source": [
        "plt.rcParams['figure.figsize'] = [12, 8]"
      ],
      "execution_count": 0,
      "outputs": []
    },
    {
      "cell_type": "code",
      "metadata": {
        "id": "hTyruO6WhRhl",
        "colab_type": "code",
        "outputId": "f8e92faf-9c57-473d-c4e8-3632d754c9d4",
        "colab": {
          "base_uri": "https://localhost:8080/",
          "height": 600
        }
      },
      "source": [
        "conditions[:10].plot(kind='bar')\n",
        "plt.title('Top 10 most common conditions')\n",
        "plt.xlabel('condition')\n",
        "plt.ylabel('count')"
      ],
      "execution_count": 144,
      "outputs": [
        {
          "output_type": "execute_result",
          "data": {
            "text/plain": [
              "Text(0, 0.5, 'count')"
            ]
          },
          "metadata": {
            "tags": []
          },
          "execution_count": 144
        },
        {
          "output_type": "display_data",
          "data": {
            "image/png": "[encoded data removed]",
            "text/plain": [
              "<Figure size 864x576 with 1 Axes>"
            ]
          },
          "metadata": {
            "tags": []
          }
        }
      ]
    },
    {
      "cell_type": "code",
      "metadata": {
        "id": "ZWuOMKv-hTHh",
        "colab_type": "code",
        "outputId": "c1e11135-8392-42fa-d199-883ba2aefb72",
        "colab": {
          "base_uri": "https://localhost:8080/",
          "height": 534
        }
      },
      "source": [
        "train.rating.hist(color='green')\n",
        "plt.title('Distribution of Ratings')\n",
        "plt.xlabel('Rating')\n",
        "plt.ylabel('Count')\n",
        "#plt.xticks([i for i in range(1,11)]);\n"
      ],
      "execution_count": 145,
      "outputs": [
        {
          "output_type": "execute_result",
          "data": {
            "text/plain": [
              "Text(0, 0.5, 'Count')"
            ]
          },
          "metadata": {
            "tags": []
          },
          "execution_count": 145
        },
        {
          "output_type": "display_data",
          "data": {
            "image/png": "[encoded data removed]",
            "text/plain": [
              "<Figure size 864x576 with 1 Axes>"
            ]
          },
          "metadata": {
            "tags": []
          }
        }
      ]
    },
    {
      "cell_type": "code",
      "metadata": {
        "id": "WWv7f5YahYZT",
        "colab_type": "code",
        "outputId": "9fcb5c91-359d-4de4-e4bf-782d8c8e233d",
        "colab": {
          "base_uri": "https://localhost:8080/",
          "height": 534
        }
      },
      "source": [
        "plt.scatter(train.rating, train.usefulCount, c=train.rating.values, cmap='tab10')\n",
        "plt.title('Useful Count vs Rating')\n",
        "plt.xlabel('Rating')\n",
        "plt.ylabel('Useful Count')\n"
      ],
      "execution_count": 146,
      "outputs": [
        {
          "output_type": "execute_result",
          "data": {
            "text/plain": [
              "Text(0, 0.5, 'Useful Count')"
            ]
          },
          "metadata": {
            "tags": []
          },
          "execution_count": 146
        },
        {
          "output_type": "display_data",
          "data": {
            "image/png": "[encoded data removed]",
            "text/plain": [
              "<Figure size 864x576 with 1 Axes>"
            ]
          },
          "metadata": {
            "tags": []
          }
        }
      ]
    },
    {
      "cell_type": "code",
      "metadata": {
        "id": "rUVMgprKhZMQ",
        "colab_type": "code",
        "colab": {}
      },
      "source": [
        "from tensorflow.keras.preprocessing.text import Tokenizer\n",
        "\n",
        "samples = train['review']\n",
        "tests = test['review']"
      ],
      "execution_count": 0,
      "outputs": []
    },
    {
      "cell_type": "code",
      "metadata": {
        "id": "FyAfc1p9hgSv",
        "colab_type": "code",
        "colab": {}
      },
      "source": [
        "tokenizer = Tokenizer(num_words = 1500)\n",
        "tokens = Tokenizer(num_words = 1500)"
      ],
      "execution_count": 0,
      "outputs": []
    },
    {
      "cell_type": "code",
      "metadata": {
        "id": "CocuAMdBhgw3",
        "colab_type": "code",
        "outputId": "49eeae93-65ec-49fe-bce1-8dd1c723077c",
        "colab": {
          "base_uri": "https://localhost:8080/",
          "height": 34
        }
      },
      "source": [
        "tokenizer.fit_on_texts(samples)\n",
        "word_index = tokenizer.word_index\n",
        "print('Found %s unique tokens.' % len(word_index))"
      ],
      "execution_count": 194,
      "outputs": [
        {
          "output_type": "stream",
          "text": [
            "Found 51429 unique tokens.\n"
          ],
          "name": "stdout"
        }
      ]
    },
    {
      "cell_type": "code",
      "metadata": {
        "id": "DvdZkMWHix-_",
        "colab_type": "code",
        "outputId": "d1f77dff-46c3-45c3-9b4e-092c7b03ca9e",
        "colab": {
          "base_uri": "https://localhost:8080/",
          "height": 34
        }
      },
      "source": [
        "# Make one hot samples\n",
        "data = tokenizer.texts_to_matrix(samples, mode='binary')\n",
        "data.shape"
      ],
      "execution_count": 195,
      "outputs": [
        {
          "output_type": "execute_result",
          "data": {
            "text/plain": [
              "(161297, 1500)"
            ]
          },
          "metadata": {
            "tags": []
          },
          "execution_count": 195
        }
      ]
    },
    {
      "cell_type": "code",
      "metadata": {
        "id": "Zfi0T_ZUi1i6",
        "colab_type": "code",
        "colab": {}
      },
      "source": [
        "#Create 3 categpories for positive neutral and negative ratings\n",
        "#label = 2, when rating > 6 , meaning positive rating\n",
        "#label = 1, when rating = 5 or 6, meaning neutral\n",
        "#label = 0, when rating < 5, meaning negative\n",
        "labels = train['rating'].values\n",
        "labels = 2.0 * (labels > 6) + 1.0*(labels == 5) + 1.0*(labels == 6)\n",
        "test_labels = test['rating'].values\n",
        "test_labels = 2.0 * (test_labels > 6) + 1.0*(test_labels == 5) + 1.0*(test_labels == 6)"
      ],
      "execution_count": 0,
      "outputs": []
    },
    {
      "cell_type": "code",
      "metadata": {
        "id": "rOcJ4Bc6i3Cp",
        "colab_type": "code",
        "outputId": "2a35643d-48e3-4c98-c7ed-fd498ce35ac1",
        "colab": {
          "base_uri": "https://localhost:8080/",
          "height": 34
        }
      },
      "source": [
        "labels[:10]"
      ],
      "execution_count": 197,
      "outputs": [
        {
          "output_type": "execute_result",
          "data": {
            "text/plain": [
              "array([2., 2., 1., 2., 2., 0., 0., 2., 0., 2.])"
            ]
          },
          "metadata": {
            "tags": []
          },
          "execution_count": 197
        }
      ]
    },
    {
      "cell_type": "code",
      "metadata": {
        "id": "RRLWXGhoi62o",
        "colab_type": "code",
        "colab": {}
      },
      "source": [
        "#Split into training and validation sets\n",
        "from sklearn.model_selection import train_test_split\n",
        "x_train, x_val, y_train, y_val = train_test_split(data, labels,test_size = 0.3, random_state = 20)"
      ],
      "execution_count": 0,
      "outputs": []
    },
    {
      "cell_type": "code",
      "metadata": {
        "id": "nE605XCFjk2g",
        "colab_type": "code",
        "colab": {}
      },
      "source": [
        "from tensorflow.keras.utils import to_categorical"
      ],
      "execution_count": 0,
      "outputs": []
    },
    {
      "cell_type": "code",
      "metadata": {
        "id": "lE6EObBEjtZn",
        "colab_type": "code",
        "colab": {}
      },
      "source": [
        "y_train_cat = to_categorical(y_train)\n",
        "y_val_cat = to_categorical(y_val)"
      ],
      "execution_count": 0,
      "outputs": []
    },
    {
      "cell_type": "code",
      "metadata": {
        "id": "r9P5MBdsju7n",
        "colab_type": "code",
        "outputId": "8496c104-41ae-49c6-9275-c8787d57fa6c",
        "colab": {
          "base_uri": "https://localhost:8080/",
          "height": 353
        }
      },
      "source": [
        "# [0,0,1] = 2 , [1,0,0] = 0, [0,1,0] = 1\n",
        "\n",
        "y_train_cat[:20]"
      ],
      "execution_count": 201,
      "outputs": [
        {
          "output_type": "execute_result",
          "data": {
            "text/plain": [
              "array([[0., 0., 1.],\n",
              "       [1., 0., 0.],\n",
              "       [0., 0., 1.],\n",
              "       [0., 0., 1.],\n",
              "       [0., 0., 1.],\n",
              "       [1., 0., 0.],\n",
              "       [0., 0., 1.],\n",
              "       [0., 0., 1.],\n",
              "       [0., 0., 1.],\n",
              "       [0., 0., 1.],\n",
              "       [0., 0., 1.],\n",
              "       [0., 0., 1.],\n",
              "       [0., 0., 1.],\n",
              "       [0., 0., 1.],\n",
              "       [0., 1., 0.],\n",
              "       [0., 0., 1.],\n",
              "       [1., 0., 0.],\n",
              "       [0., 0., 1.],\n",
              "       [1., 0., 0.],\n",
              "       [0., 0., 1.]], dtype=float32)"
            ]
          },
          "metadata": {
            "tags": []
          },
          "execution_count": 201
        }
      ]
    },
    {
      "cell_type": "code",
      "metadata": {
        "id": "Hcu7dX-Vjwfk",
        "colab_type": "code",
        "outputId": "52be0949-04e0-42d0-f6d5-efd1948c84ab",
        "colab": {
          "base_uri": "https://localhost:8080/",
          "height": 34
        }
      },
      "source": [
        "y_train[:10]"
      ],
      "execution_count": 202,
      "outputs": [
        {
          "output_type": "execute_result",
          "data": {
            "text/plain": [
              "array([2., 0., 2., 2., 2., 0., 2., 2., 2., 2.])"
            ]
          },
          "metadata": {
            "tags": []
          },
          "execution_count": 202
        }
      ]
    },
    {
      "cell_type": "code",
      "metadata": {
        "id": "9PB_XMsX9XGx",
        "colab_type": "code",
        "colab": {
          "base_uri": "https://localhost:8080/",
          "height": 34
        },
        "outputId": "d6885b78-5e0b-487f-aa4e-eba95a3826cd"
      },
      "source": [
        "test_labels.shape"
      ],
      "execution_count": 203,
      "outputs": [
        {
          "output_type": "execute_result",
          "data": {
            "text/plain": [
              "(53766,)"
            ]
          },
          "metadata": {
            "tags": []
          },
          "execution_count": 203
        }
      ]
    },
    {
      "cell_type": "markdown",
      "metadata": {
        "id": "GAumkiAGKgK8",
        "colab_type": "text"
      },
      "source": [
        "##Train the model"
      ]
    },
    {
      "cell_type": "code",
      "metadata": {
        "id": "9Yf_ti6fjy24",
        "colab_type": "code",
        "outputId": "ee7d1417-9fee-440f-a36a-2f3425ef0a90",
        "colab": {
          "base_uri": "https://localhost:8080/",
          "height": 353
        }
      },
      "source": [
        "#Create a simple sequential model\n",
        "import tensorflow_addons as tfa\n",
        "from tensorflow.keras.models import Sequential\n",
        "from tensorflow.keras import layers\n",
        "from tensorflow.keras.layers import Dense, Activation, Dropout\n",
        "\n",
        "\n",
        "model = Sequential()\n",
        "model.add(Dense(512, input_dim = 1500))\n",
        "model.add(Activation('relu'))\n",
        "model.add(layers.Dense(256, activation = 'relu'))\n",
        "model.add(layers.Dense(128, activation = 'relu'))\n",
        "model.add(Dense(3))\n",
        "model.add(Activation('softmax'))\n",
        "model.compile(optimizer = 'adam',\n",
        "             loss = 'categorical_crossentropy',\n",
        "             metrics = [tfa.metrics.CohenKappa(num_classes = 3)])\n",
        "model.summary()"
      ],
      "execution_count": 204,
      "outputs": [
        {
          "output_type": "stream",
          "text": [
            "Model: \"sequential_29\"\n",
            "_________________________________________________________________\n",
            "Layer (type)                 Output Shape              Param #   \n",
            "=================================================================\n",
            "dense_75 (Dense)             (None, 512)               768512    \n",
            "_________________________________________________________________\n",
            "activation_41 (Activation)   (None, 512)               0         \n",
            "_________________________________________________________________\n",
            "dense_76 (Dense)             (None, 256)               131328    \n",
            "_________________________________________________________________\n",
            "dense_77 (Dense)             (None, 128)               32896     \n",
            "_________________________________________________________________\n",
            "dense_78 (Dense)             (None, 3)                 387       \n",
            "_________________________________________________________________\n",
            "activation_42 (Activation)   (None, 3)                 0         \n",
            "=================================================================\n",
            "Total params: 933,123\n",
            "Trainable params: 933,123\n",
            "Non-trainable params: 0\n",
            "_________________________________________________________________\n"
          ],
          "name": "stdout"
        }
      ]
    },
    {
      "cell_type": "code",
      "metadata": {
        "id": "TDT2FMgMkicM",
        "colab_type": "code",
        "outputId": "0d00c8d8-7561-4167-e7d1-46ac15a8c01d",
        "colab": {
          "base_uri": "https://localhost:8080/",
          "height": 403
        }
      },
      "source": [
        "%%time\n",
        "history = model.fit(x_train, y_train_cat,\n",
        "                    epochs = 10,\n",
        "                    batch_size = 32,\n",
        "                    verbose = 1,\n",
        "                    validation_data = (x_val, y_val_cat))"
      ],
      "execution_count": 205,
      "outputs": [
        {
          "output_type": "stream",
          "text": [
            "Train on 112907 samples, validate on 48390 samples\n",
            "Epoch 1/10\n",
            "112907/112907 [==============================] - 24s 208us/sample - loss: 0.5706 - cohen_kappa: 0.5021 - val_loss: 0.5322 - val_cohen_kappa: 0.5259\n",
            "Epoch 2/10\n",
            "112907/112907 [==============================] - 23s 204us/sample - loss: 0.4123 - cohen_kappa: 0.6690 - val_loss: 0.4803 - val_cohen_kappa: 0.6303\n",
            "Epoch 3/10\n",
            "112907/112907 [==============================] - 23s 207us/sample - loss: 0.2148 - cohen_kappa: 0.8408 - val_loss: 0.5067 - val_cohen_kappa: 0.6665\n",
            "Epoch 4/10\n",
            "112907/112907 [==============================] - 24s 209us/sample - loss: 0.1024 - cohen_kappa: 0.9286 - val_loss: 0.6582 - val_cohen_kappa: 0.6769\n",
            "Epoch 5/10\n",
            "112907/112907 [==============================] - 24s 215us/sample - loss: 0.0630 - cohen_kappa: 0.9561 - val_loss: 0.7496 - val_cohen_kappa: 0.6852\n",
            "Epoch 6/10\n",
            "112907/112907 [==============================] - 23s 206us/sample - loss: 0.0441 - cohen_kappa: 0.9687 - val_loss: 0.8473 - val_cohen_kappa: 0.6871\n",
            "Epoch 7/10\n",
            "112907/112907 [==============================] - 23s 204us/sample - loss: 0.0345 - cohen_kappa: 0.9763 - val_loss: 0.9088 - val_cohen_kappa: 0.6944\n",
            "Epoch 8/10\n",
            "112907/112907 [==============================] - 23s 205us/sample - loss: 0.0283 - cohen_kappa: 0.9809 - val_loss: 0.9507 - val_cohen_kappa: 0.6932\n",
            "Epoch 9/10\n",
            "112907/112907 [==============================] - 23s 204us/sample - loss: 0.0247 - cohen_kappa: 0.9841 - val_loss: 1.0574 - val_cohen_kappa: 0.6976\n",
            "Epoch 10/10\n",
            "112907/112907 [==============================] - 23s 202us/sample - loss: 0.0219 - cohen_kappa: 0.9849 - val_loss: 0.9928 - val_cohen_kappa: 0.6923\n",
            "CPU times: user 9min 34s, sys: 36.9 s, total: 10min 11s\n",
            "Wall time: 3min 53s\n"
          ],
          "name": "stdout"
        }
      ]
    },
    {
      "cell_type": "markdown",
      "metadata": {
        "id": "sFDSJ7WPKV54",
        "colab_type": "text"
      },
      "source": [
        "## plot the accuracy(cohens kappa) and loss for the training and validation data"
      ]
    },
    {
      "cell_type": "code",
      "metadata": {
        "id": "wdMI3sRCnb8A",
        "colab_type": "code",
        "outputId": "126ef5f8-70bc-4b53-fc0e-0c74c16c6919",
        "colab": {
          "base_uri": "https://localhost:8080/",
          "height": 983
        }
      },
      "source": [
        "#plot the accuracy and loss\n",
        "acc = history.history['cohen_kappa']\n",
        "val_acc = history.history['val_cohen_kappa']\n",
        "loss = history.history['loss']\n",
        "val_loss = history.history['val_loss']\n",
        "\n",
        "plt.plot(acc,label='train')\n",
        "plt.plot(val_acc, label = 'validation')\n",
        "plt.title('Training and validation Cohen\"s Kappa')\n",
        "plt.legend()\n",
        "\n",
        "plt.figure()\n",
        "\n",
        "plt.plot(loss, label = 'train')\n",
        "plt.plot(val_loss, label = 'validation')\n",
        "plt.title('Training and validation loss')\n",
        "plt.legend()\n",
        "\n",
        "\n",
        "\n",
        "plt.show()"
      ],
      "execution_count": 207,
      "outputs": [
        {
          "output_type": "display_data",
          "data": {
            "image/png": "[encoded data removed]",
            "text/plain": [
              "<Figure size 864x576 with 1 Axes>"
            ]
          },
          "metadata": {
            "tags": []
          }
        },
        {
          "output_type": "display_data",
          "data": {
            "image/png": "[encoded data removed]",
            "text/plain": [
              "<Figure size 864x576 with 1 Axes>"
            ]
          },
          "metadata": {
            "tags": []
          }
        }
      ]
    },
    {
      "cell_type": "code",
      "metadata": {
        "id": "Offtnsd4p6Ew",
        "colab_type": "code",
        "colab": {
          "base_uri": "https://localhost:8080/",
          "height": 34
        },
        "outputId": "6061eb79-7228-46aa-ae10-1eab0b28eefe"
      },
      "source": [
        "tokens.fit_on_texts(tests)\n",
        "length_index = tokens.word_index\n",
        "print('Found %s unique tokens.' % len(length_index))"
      ],
      "execution_count": 208,
      "outputs": [
        {
          "output_type": "stream",
          "text": [
            "Found 34495 unique tokens.\n"
          ],
          "name": "stdout"
        }
      ]
    },
    {
      "cell_type": "code",
      "metadata": {
        "id": "k8GgZYPf7G0t",
        "colab_type": "code",
        "colab": {
          "base_uri": "https://localhost:8080/",
          "height": 34
        },
        "outputId": "2043464b-1c42-4999-cfe2-8edf34145190"
      },
      "source": [
        "x_test = tokens.texts_to_matrix(tests, mode='binary')\n",
        "x_test.shape"
      ],
      "execution_count": 209,
      "outputs": [
        {
          "output_type": "execute_result",
          "data": {
            "text/plain": [
              "(53766, 1500)"
            ]
          },
          "metadata": {
            "tags": []
          },
          "execution_count": 209
        }
      ]
    },
    {
      "cell_type": "code",
      "metadata": {
        "id": "JyE2zbvQ-qTM",
        "colab_type": "code",
        "colab": {}
      },
      "source": [
        "test_labels_cat = to_categorical(test_labels)"
      ],
      "execution_count": 0,
      "outputs": []
    },
    {
      "cell_type": "code",
      "metadata": {
        "id": "C7P_nrF58Opr",
        "colab_type": "code",
        "colab": {
          "base_uri": "https://localhost:8080/",
          "height": 50
        },
        "outputId": "3429cb8f-69a4-4fc9-a76f-bcea1be04851"
      },
      "source": [
        "model.evaluate(x_test, test_labels_cat)"
      ],
      "execution_count": 211,
      "outputs": [
        {
          "output_type": "stream",
          "text": [
            "53766/53766 [==============================] - 4s 72us/sample - loss: 3.0932 - cohen_kappa: 0.0944\n"
          ],
          "name": "stdout"
        },
        {
          "output_type": "execute_result",
          "data": {
            "text/plain": [
              "[3.093187071540697, 0.0944103]"
            ]
          },
          "metadata": {
            "tags": []
          },
          "execution_count": 211
        }
      ]
    },
    {
      "cell_type": "code",
      "metadata": {
        "id": "Nj4-eUrw8Un_",
        "colab_type": "code",
        "colab": {}
      },
      "source": [
        "pred= argmax(model.predict(x_test), axis = 1)"
      ],
      "execution_count": 0,
      "outputs": []
    },
    {
      "cell_type": "code",
      "metadata": {
        "id": "Ww2jIT10_CcM",
        "colab_type": "code",
        "colab": {
          "base_uri": "https://localhost:8080/",
          "height": 34
        },
        "outputId": "eb4718d7-66dd-48ee-82f6-63666c170398"
      },
      "source": [
        "\n",
        "pred"
      ],
      "execution_count": 213,
      "outputs": [
        {
          "output_type": "execute_result",
          "data": {
            "text/plain": [
              "array([2, 2, 2, ..., 2, 1, 0])"
            ]
          },
          "metadata": {
            "tags": []
          },
          "execution_count": 213
        }
      ]
    },
    {
      "cell_type": "markdown",
      "metadata": {
        "id": "xnvOgVSOKsfK",
        "colab_type": "text"
      },
      "source": [
        "## Show the confusion matrix and Classification report for test_drugs data and predicted values"
      ]
    },
    {
      "cell_type": "code",
      "metadata": {
        "id": "-2ZVWZqV_nH_",
        "colab_type": "code",
        "colab": {
          "base_uri": "https://localhost:8080/",
          "height": 67
        },
        "outputId": "95911557-e431-4aa0-99c2-1b8d2c9d731a"
      },
      "source": [
        "print(confusion_matrix(pred, test_labels).T)"
      ],
      "execution_count": 214,
      "outputs": [
        {
          "output_type": "stream",
          "text": [
            "[[ 4373   867  8257]\n",
            " [ 1230   336  3263]\n",
            " [ 7607  1805 26028]]\n"
          ],
          "name": "stdout"
        }
      ]
    },
    {
      "cell_type": "code",
      "metadata": {
        "id": "1EJ4JMKJAtsk",
        "colab_type": "code",
        "colab": {
          "base_uri": "https://localhost:8080/",
          "height": 185
        },
        "outputId": "13547bdb-1416-4c27-9307-5a93885f2419"
      },
      "source": [
        "print(classification_report(pred, test_labels))"
      ],
      "execution_count": 215,
      "outputs": [
        {
          "output_type": "stream",
          "text": [
            "              precision    recall  f1-score   support\n",
            "\n",
            "           0       0.32      0.33      0.33     13210\n",
            "           1       0.07      0.11      0.09      3008\n",
            "           2       0.73      0.69      0.71     37548\n",
            "\n",
            "    accuracy                           0.57     53766\n",
            "   macro avg       0.38      0.38      0.38     53766\n",
            "weighted avg       0.60      0.57      0.58     53766\n",
            "\n"
          ],
          "name": "stdout"
        }
      ]
    },
    {
      "cell_type": "code",
      "metadata": {
        "id": "0dfvMhE8A4xb",
        "colab_type": "code",
        "colab": {}
      },
      "source": [
        ""
      ],
      "execution_count": 0,
      "outputs": []
    },
    {
      "cell_type": "markdown",
      "metadata": {
        "id": "GwEw4U3vFegi",
        "colab_type": "text"
      },
      "source": [
        "## The confusion matrix and classification report above is for the test-drugs\n",
        "## For the validation data from  train-drugs the confusion matrix and classification report can be found below"
      ]
    },
    {
      "cell_type": "code",
      "metadata": {
        "id": "aN8kBUVaFzUj",
        "colab_type": "code",
        "colab": {}
      },
      "source": [
        "y_pred = argmax(model.predict(x_val), axis = 1)\n",
        "y_true = argmax(y_val_cat, axis = 1)"
      ],
      "execution_count": 0,
      "outputs": []
    },
    {
      "cell_type": "code",
      "metadata": {
        "id": "s2xze5XuIcju",
        "colab_type": "code",
        "colab": {
          "base_uri": "https://localhost:8080/",
          "height": 67
        },
        "outputId": "a4394f85-47b1-444c-c55d-e05cac021c01"
      },
      "source": [
        "print(confusion_matrix(y_pred, y_true).T)"
      ],
      "execution_count": 217,
      "outputs": [
        {
          "output_type": "stream",
          "text": [
            "[[ 9645   468  1761]\n",
            " [  848  2113  1331]\n",
            " [ 2010   768 29446]]\n"
          ],
          "name": "stdout"
        }
      ]
    },
    {
      "cell_type": "code",
      "metadata": {
        "id": "VvfPgRf-Io0y",
        "colab_type": "code",
        "colab": {
          "base_uri": "https://localhost:8080/",
          "height": 185
        },
        "outputId": "cb120658-105d-4a6b-8960-f45c3cce6f91"
      },
      "source": [
        "print(classification_report(y_pred, y_true))"
      ],
      "execution_count": 218,
      "outputs": [
        {
          "output_type": "stream",
          "text": [
            "              precision    recall  f1-score   support\n",
            "\n",
            "           0       0.81      0.77      0.79     12503\n",
            "           1       0.49      0.63      0.55      3349\n",
            "           2       0.91      0.90      0.91     32538\n",
            "\n",
            "    accuracy                           0.85     48390\n",
            "   macro avg       0.74      0.77      0.75     48390\n",
            "weighted avg       0.86      0.85      0.85     48390\n",
            "\n"
          ],
          "name": "stdout"
        }
      ]
    },
    {
      "cell_type": "code",
      "metadata": {
        "id": "p7ltuAKXIvCD",
        "colab_type": "code",
        "colab": {}
      },
      "source": [
        "val_cohen_kappa = cohen_kappa_score(y_true, y_pred)\n"
      ],
      "execution_count": 0,
      "outputs": []
    },
    {
      "cell_type": "code",
      "metadata": {
        "id": "YcTBE_pRJCqc",
        "colab_type": "code",
        "colab": {}
      },
      "source": [
        "test_cohen_kappa = cohen_kappa_score(pred, test_labels)"
      ],
      "execution_count": 0,
      "outputs": []
    },
    {
      "cell_type": "markdown",
      "metadata": {
        "id": "wFNApl73K29K",
        "colab_type": "text"
      },
      "source": [
        "## show the cohens kappa value for the validation data and from the test_data"
      ]
    },
    {
      "cell_type": "code",
      "metadata": {
        "id": "ou5MUkSkJDB-",
        "colab_type": "code",
        "colab": {
          "base_uri": "https://localhost:8080/",
          "height": 34
        },
        "outputId": "3511a488-a052-481b-ed41-5416d4f4fae5"
      },
      "source": [
        "print('val_cohens andn test_cohens', val_cohen_kappa, test_cohen_kappa)"
      ],
      "execution_count": 231,
      "outputs": [
        {
          "output_type": "stream",
          "text": [
            "val_cohens andn test_cohens 0.6923427567492588 0.09441025126450031\n"
          ],
          "name": "stdout"
        }
      ]
    },
    {
      "cell_type": "code",
      "metadata": {
        "id": "E46VMjEsJ2Zc",
        "colab_type": "code",
        "colab": {}
      },
      "source": [
        ""
      ],
      "execution_count": 0,
      "outputs": []
    }
  ]
}